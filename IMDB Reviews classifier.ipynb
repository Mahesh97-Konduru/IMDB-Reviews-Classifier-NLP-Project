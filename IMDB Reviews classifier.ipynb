{
 "cells": [
  {
   "cell_type": "markdown",
   "metadata": {},
   "source": [
    "# Importing the necessary libraries"
   ]
  },
  {
   "cell_type": "code",
   "execution_count": 52,
   "metadata": {},
   "outputs": [],
   "source": [
    "import pandas as pd\n",
    "import numpy as np \n",
    "import matplotlib.pyplot as plt\n",
    "import re\n",
    "import unicodedata\n",
    "from textblob import TextBlob\n",
    "import nltk\n",
    "import spacy\n",
    "from spacy.lang.en.stop_words import STOP_WORDS\n"
   ]
  },
  {
   "cell_type": "code",
   "execution_count": 53,
   "metadata": {},
   "outputs": [],
   "source": [
    "df = pd.read_excel('train.xlsx',)"
   ]
  },
  {
   "cell_type": "code",
   "execution_count": 54,
   "metadata": {},
   "outputs": [
    {
     "data": {
      "text/html": [
       "<div>\n",
       "<style scoped>\n",
       "    .dataframe tbody tr th:only-of-type {\n",
       "        vertical-align: middle;\n",
       "    }\n",
       "\n",
       "    .dataframe tbody tr th {\n",
       "        vertical-align: top;\n",
       "    }\n",
       "\n",
       "    .dataframe thead th {\n",
       "        text-align: right;\n",
       "    }\n",
       "</style>\n",
       "<table border=\"1\" class=\"dataframe\">\n",
       "  <thead>\n",
       "    <tr style=\"text-align: right;\">\n",
       "      <th></th>\n",
       "      <th>Reviews</th>\n",
       "      <th>Sentiment</th>\n",
       "    </tr>\n",
       "  </thead>\n",
       "  <tbody>\n",
       "    <tr>\n",
       "      <th>0</th>\n",
       "      <td>When I first tuned in on this morning news, I ...</td>\n",
       "      <td>neg</td>\n",
       "    </tr>\n",
       "    <tr>\n",
       "      <th>1</th>\n",
       "      <td>Mere thoughts of \"Going Overboard\" (aka \"Babes...</td>\n",
       "      <td>neg</td>\n",
       "    </tr>\n",
       "    <tr>\n",
       "      <th>2</th>\n",
       "      <td>Why does this movie fall WELL below standards?...</td>\n",
       "      <td>neg</td>\n",
       "    </tr>\n",
       "    <tr>\n",
       "      <th>3</th>\n",
       "      <td>Wow and I thought that any Steven Segal movie ...</td>\n",
       "      <td>neg</td>\n",
       "    </tr>\n",
       "    <tr>\n",
       "      <th>4</th>\n",
       "      <td>The story is seen before, but that does'n matt...</td>\n",
       "      <td>neg</td>\n",
       "    </tr>\n",
       "    <tr>\n",
       "      <th>5</th>\n",
       "      <td>Like so many media experiments, this amateuris...</td>\n",
       "      <td>neg</td>\n",
       "    </tr>\n",
       "    <tr>\n",
       "      <th>6</th>\n",
       "      <td>This game has the(dis)honor of being the first...</td>\n",
       "      <td>neg</td>\n",
       "    </tr>\n",
       "    <tr>\n",
       "      <th>7</th>\n",
       "      <td>I think this still is the best routine. There ...</td>\n",
       "      <td>pos</td>\n",
       "    </tr>\n",
       "    <tr>\n",
       "      <th>8</th>\n",
       "      <td>As far as parody films go, there are few that ...</td>\n",
       "      <td>pos</td>\n",
       "    </tr>\n",
       "    <tr>\n",
       "      <th>9</th>\n",
       "      <td>Big Bad Ralph is also on the not so squeazy tr...</td>\n",
       "      <td>neg</td>\n",
       "    </tr>\n",
       "    <tr>\n",
       "      <th>10</th>\n",
       "      <td>\"Panic in the Streets\" is a fairly unknown lit...</td>\n",
       "      <td>pos</td>\n",
       "    </tr>\n",
       "    <tr>\n",
       "      <th>11</th>\n",
       "      <td>\"How To Lose Friends &amp; Alienate People\" is not...</td>\n",
       "      <td>pos</td>\n",
       "    </tr>\n",
       "    <tr>\n",
       "      <th>12</th>\n",
       "      <td>I saw this film last night on cable and it is ...</td>\n",
       "      <td>pos</td>\n",
       "    </tr>\n",
       "    <tr>\n",
       "      <th>13</th>\n",
       "      <td>Unhinged follows the typical plot of the early...</td>\n",
       "      <td>neg</td>\n",
       "    </tr>\n",
       "    <tr>\n",
       "      <th>14</th>\n",
       "      <td>This first part of the BRD Trilogy has more pa...</td>\n",
       "      <td>pos</td>\n",
       "    </tr>\n",
       "    <tr>\n",
       "      <th>15</th>\n",
       "      <td>The Cure uses voice over to create an intense ...</td>\n",
       "      <td>pos</td>\n",
       "    </tr>\n",
       "    <tr>\n",
       "      <th>16</th>\n",
       "      <td>I thought this was a very good movie. It would...</td>\n",
       "      <td>pos</td>\n",
       "    </tr>\n",
       "    <tr>\n",
       "      <th>17</th>\n",
       "      <td>Great acting on the part of Gretchen Mol. This...</td>\n",
       "      <td>pos</td>\n",
       "    </tr>\n",
       "    <tr>\n",
       "      <th>18</th>\n",
       "      <td>Such great actors such a disappointment. Marlo...</td>\n",
       "      <td>neg</td>\n",
       "    </tr>\n",
       "    <tr>\n",
       "      <th>19</th>\n",
       "      <td>I was lucky enough to see Zero Day last night....</td>\n",
       "      <td>pos</td>\n",
       "    </tr>\n",
       "    <tr>\n",
       "      <th>20</th>\n",
       "      <td>Version: Universal / Hong Kong Legends R4 DVD ...</td>\n",
       "      <td>pos</td>\n",
       "    </tr>\n",
       "    <tr>\n",
       "      <th>21</th>\n",
       "      <td>George Lopez is a funny man even without the s...</td>\n",
       "      <td>pos</td>\n",
       "    </tr>\n",
       "    <tr>\n",
       "      <th>22</th>\n",
       "      <td>i'll admit. i think Uma Thurman is the most be...</td>\n",
       "      <td>neg</td>\n",
       "    </tr>\n",
       "    <tr>\n",
       "      <th>23</th>\n",
       "      <td>Enough is enough...sometimes they just need to...</td>\n",
       "      <td>neg</td>\n",
       "    </tr>\n",
       "    <tr>\n",
       "      <th>24</th>\n",
       "      <td>Watching beautiful women sneaking around, play...</td>\n",
       "      <td>neg</td>\n",
       "    </tr>\n",
       "    <tr>\n",
       "      <th>25</th>\n",
       "      <td>The main reason for writing this review is I f...</td>\n",
       "      <td>neg</td>\n",
       "    </tr>\n",
       "    <tr>\n",
       "      <th>26</th>\n",
       "      <td>Starting off, here's a synopsis: Porno queen A...</td>\n",
       "      <td>pos</td>\n",
       "    </tr>\n",
       "    <tr>\n",
       "      <th>27</th>\n",
       "      <td>I loved the episode but seems to me there shou...</td>\n",
       "      <td>pos</td>\n",
       "    </tr>\n",
       "    <tr>\n",
       "      <th>28</th>\n",
       "      <td>Long before \"Brokeback Mountain\" (about 23 yea...</td>\n",
       "      <td>pos</td>\n",
       "    </tr>\n",
       "    <tr>\n",
       "      <th>29</th>\n",
       "      <td>\"Look, I know this may suck right now, but pai...</td>\n",
       "      <td>neg</td>\n",
       "    </tr>\n",
       "    <tr>\n",
       "      <th>30</th>\n",
       "      <td>A very realistic portrait of a broken family a...</td>\n",
       "      <td>pos</td>\n",
       "    </tr>\n",
       "    <tr>\n",
       "      <th>31</th>\n",
       "      <td>Dressed to Kill starts off with Kate Miller (A...</td>\n",
       "      <td>pos</td>\n",
       "    </tr>\n",
       "    <tr>\n",
       "      <th>32</th>\n",
       "      <td>I was very moved by the story and because I am...</td>\n",
       "      <td>pos</td>\n",
       "    </tr>\n",
       "    <tr>\n",
       "      <th>33</th>\n",
       "      <td>Blood Surf AKA Krocodylus is a fair film that ...</td>\n",
       "      <td>neg</td>\n",
       "    </tr>\n",
       "    <tr>\n",
       "      <th>34</th>\n",
       "      <td>There are so many reasons as to why I rate the...</td>\n",
       "      <td>pos</td>\n",
       "    </tr>\n",
       "    <tr>\n",
       "      <th>35</th>\n",
       "      <td>I tried watching this abomination of the cinem...</td>\n",
       "      <td>neg</td>\n",
       "    </tr>\n",
       "    <tr>\n",
       "      <th>36</th>\n",
       "      <td>Welcome to Collinwood is a lot of things, but ...</td>\n",
       "      <td>pos</td>\n",
       "    </tr>\n",
       "    <tr>\n",
       "      <th>37</th>\n",
       "      <td>Awful! Absolutely awful! No plot, no point, no...</td>\n",
       "      <td>neg</td>\n",
       "    </tr>\n",
       "    <tr>\n",
       "      <th>38</th>\n",
       "      <td>Wow, I can't believe i'm the first and only on...</td>\n",
       "      <td>pos</td>\n",
       "    </tr>\n",
       "    <tr>\n",
       "      <th>39</th>\n",
       "      <td>Trying to compare or represent this \"swill\" as...</td>\n",
       "      <td>neg</td>\n",
       "    </tr>\n",
       "    <tr>\n",
       "      <th>40</th>\n",
       "      <td>I searched for this movie for years, apparentl...</td>\n",
       "      <td>pos</td>\n",
       "    </tr>\n",
       "    <tr>\n",
       "      <th>41</th>\n",
       "      <td>I do not envy Barry Levinson, Rachel Weisz, Be...</td>\n",
       "      <td>neg</td>\n",
       "    </tr>\n",
       "    <tr>\n",
       "      <th>42</th>\n",
       "      <td>I have seen my fair share of comedy and standu...</td>\n",
       "      <td>pos</td>\n",
       "    </tr>\n",
       "    <tr>\n",
       "      <th>43</th>\n",
       "      <td>Richard Attenborough who already given us magn...</td>\n",
       "      <td>pos</td>\n",
       "    </tr>\n",
       "    <tr>\n",
       "      <th>44</th>\n",
       "      <td>This movie frequently extrapolates quantum mec...</td>\n",
       "      <td>neg</td>\n",
       "    </tr>\n",
       "    <tr>\n",
       "      <th>45</th>\n",
       "      <td>I was thrilled to watch this movie expecting i...</td>\n",
       "      <td>neg</td>\n",
       "    </tr>\n",
       "    <tr>\n",
       "      <th>46</th>\n",
       "      <td>They had me from the first show.&lt;br /&gt;&lt;br /&gt;We...</td>\n",
       "      <td>pos</td>\n",
       "    </tr>\n",
       "    <tr>\n",
       "      <th>47</th>\n",
       "      <td>is seismic activity with little or negligible ...</td>\n",
       "      <td>neg</td>\n",
       "    </tr>\n",
       "    <tr>\n",
       "      <th>48</th>\n",
       "      <td>Ludicrous. Angelic 9-year-old Annakin turns in...</td>\n",
       "      <td>neg</td>\n",
       "    </tr>\n",
       "    <tr>\n",
       "      <th>49</th>\n",
       "      <td>The movie starts off in a classroom setting wh...</td>\n",
       "      <td>pos</td>\n",
       "    </tr>\n",
       "  </tbody>\n",
       "</table>\n",
       "</div>"
      ],
      "text/plain": [
       "                                              Reviews Sentiment\n",
       "0   When I first tuned in on this morning news, I ...       neg\n",
       "1   Mere thoughts of \"Going Overboard\" (aka \"Babes...       neg\n",
       "2   Why does this movie fall WELL below standards?...       neg\n",
       "3   Wow and I thought that any Steven Segal movie ...       neg\n",
       "4   The story is seen before, but that does'n matt...       neg\n",
       "5   Like so many media experiments, this amateuris...       neg\n",
       "6   This game has the(dis)honor of being the first...       neg\n",
       "7   I think this still is the best routine. There ...       pos\n",
       "8   As far as parody films go, there are few that ...       pos\n",
       "9   Big Bad Ralph is also on the not so squeazy tr...       neg\n",
       "10  \"Panic in the Streets\" is a fairly unknown lit...       pos\n",
       "11  \"How To Lose Friends & Alienate People\" is not...       pos\n",
       "12  I saw this film last night on cable and it is ...       pos\n",
       "13  Unhinged follows the typical plot of the early...       neg\n",
       "14  This first part of the BRD Trilogy has more pa...       pos\n",
       "15  The Cure uses voice over to create an intense ...       pos\n",
       "16  I thought this was a very good movie. It would...       pos\n",
       "17  Great acting on the part of Gretchen Mol. This...       pos\n",
       "18  Such great actors such a disappointment. Marlo...       neg\n",
       "19  I was lucky enough to see Zero Day last night....       pos\n",
       "20  Version: Universal / Hong Kong Legends R4 DVD ...       pos\n",
       "21  George Lopez is a funny man even without the s...       pos\n",
       "22  i'll admit. i think Uma Thurman is the most be...       neg\n",
       "23  Enough is enough...sometimes they just need to...       neg\n",
       "24  Watching beautiful women sneaking around, play...       neg\n",
       "25  The main reason for writing this review is I f...       neg\n",
       "26  Starting off, here's a synopsis: Porno queen A...       pos\n",
       "27  I loved the episode but seems to me there shou...       pos\n",
       "28  Long before \"Brokeback Mountain\" (about 23 yea...       pos\n",
       "29  \"Look, I know this may suck right now, but pai...       neg\n",
       "30  A very realistic portrait of a broken family a...       pos\n",
       "31  Dressed to Kill starts off with Kate Miller (A...       pos\n",
       "32  I was very moved by the story and because I am...       pos\n",
       "33  Blood Surf AKA Krocodylus is a fair film that ...       neg\n",
       "34  There are so many reasons as to why I rate the...       pos\n",
       "35  I tried watching this abomination of the cinem...       neg\n",
       "36  Welcome to Collinwood is a lot of things, but ...       pos\n",
       "37  Awful! Absolutely awful! No plot, no point, no...       neg\n",
       "38  Wow, I can't believe i'm the first and only on...       pos\n",
       "39  Trying to compare or represent this \"swill\" as...       neg\n",
       "40  I searched for this movie for years, apparentl...       pos\n",
       "41  I do not envy Barry Levinson, Rachel Weisz, Be...       neg\n",
       "42  I have seen my fair share of comedy and standu...       pos\n",
       "43  Richard Attenborough who already given us magn...       pos\n",
       "44  This movie frequently extrapolates quantum mec...       neg\n",
       "45  I was thrilled to watch this movie expecting i...       neg\n",
       "46  They had me from the first show.<br /><br />We...       pos\n",
       "47  is seismic activity with little or negligible ...       neg\n",
       "48  Ludicrous. Angelic 9-year-old Annakin turns in...       neg\n",
       "49  The movie starts off in a classroom setting wh...       pos"
      ]
     },
     "execution_count": 54,
     "metadata": {},
     "output_type": "execute_result"
    },
    {
     "data": {
      "text/html": [
       "<div>\n",
       "<style scoped>\n",
       "    .dataframe tbody tr th:only-of-type {\n",
       "        vertical-align: middle;\n",
       "    }\n",
       "\n",
       "    .dataframe tbody tr th {\n",
       "        vertical-align: top;\n",
       "    }\n",
       "\n",
       "    .dataframe thead th {\n",
       "        text-align: right;\n",
       "    }\n",
       "</style>\n",
       "<table border=\"1\" class=\"dataframe\">\n",
       "  <thead>\n",
       "    <tr style=\"text-align: right;\">\n",
       "      <th></th>\n",
       "      <th>Reviews</th>\n",
       "      <th>Sentiment</th>\n",
       "    </tr>\n",
       "  </thead>\n",
       "  <tbody>\n",
       "    <tr>\n",
       "      <th>0</th>\n",
       "      <td>When I first tuned in on this morning news, I ...</td>\n",
       "      <td>neg</td>\n",
       "    </tr>\n",
       "    <tr>\n",
       "      <th>1</th>\n",
       "      <td>Mere thoughts of \"Going Overboard\" (aka \"Babes...</td>\n",
       "      <td>neg</td>\n",
       "    </tr>\n",
       "    <tr>\n",
       "      <th>2</th>\n",
       "      <td>Why does this movie fall WELL below standards?...</td>\n",
       "      <td>neg</td>\n",
       "    </tr>\n",
       "    <tr>\n",
       "      <th>3</th>\n",
       "      <td>Wow and I thought that any Steven Segal movie ...</td>\n",
       "      <td>neg</td>\n",
       "    </tr>\n",
       "    <tr>\n",
       "      <th>4</th>\n",
       "      <td>The story is seen before, but that does'n matt...</td>\n",
       "      <td>neg</td>\n",
       "    </tr>\n",
       "    <tr>\n",
       "      <th>5</th>\n",
       "      <td>Like so many media experiments, this amateuris...</td>\n",
       "      <td>neg</td>\n",
       "    </tr>\n",
       "    <tr>\n",
       "      <th>6</th>\n",
       "      <td>This game has the(dis)honor of being the first...</td>\n",
       "      <td>neg</td>\n",
       "    </tr>\n",
       "    <tr>\n",
       "      <th>7</th>\n",
       "      <td>I think this still is the best routine. There ...</td>\n",
       "      <td>pos</td>\n",
       "    </tr>\n",
       "    <tr>\n",
       "      <th>8</th>\n",
       "      <td>As far as parody films go, there are few that ...</td>\n",
       "      <td>pos</td>\n",
       "    </tr>\n",
       "    <tr>\n",
       "      <th>9</th>\n",
       "      <td>Big Bad Ralph is also on the not so squeazy tr...</td>\n",
       "      <td>neg</td>\n",
       "    </tr>\n",
       "    <tr>\n",
       "      <th>10</th>\n",
       "      <td>\"Panic in the Streets\" is a fairly unknown lit...</td>\n",
       "      <td>pos</td>\n",
       "    </tr>\n",
       "    <tr>\n",
       "      <th>11</th>\n",
       "      <td>\"How To Lose Friends &amp; Alienate People\" is not...</td>\n",
       "      <td>pos</td>\n",
       "    </tr>\n",
       "    <tr>\n",
       "      <th>12</th>\n",
       "      <td>I saw this film last night on cable and it is ...</td>\n",
       "      <td>pos</td>\n",
       "    </tr>\n",
       "    <tr>\n",
       "      <th>13</th>\n",
       "      <td>Unhinged follows the typical plot of the early...</td>\n",
       "      <td>neg</td>\n",
       "    </tr>\n",
       "    <tr>\n",
       "      <th>14</th>\n",
       "      <td>This first part of the BRD Trilogy has more pa...</td>\n",
       "      <td>pos</td>\n",
       "    </tr>\n",
       "    <tr>\n",
       "      <th>15</th>\n",
       "      <td>The Cure uses voice over to create an intense ...</td>\n",
       "      <td>pos</td>\n",
       "    </tr>\n",
       "    <tr>\n",
       "      <th>16</th>\n",
       "      <td>I thought this was a very good movie. It would...</td>\n",
       "      <td>pos</td>\n",
       "    </tr>\n",
       "    <tr>\n",
       "      <th>17</th>\n",
       "      <td>Great acting on the part of Gretchen Mol. This...</td>\n",
       "      <td>pos</td>\n",
       "    </tr>\n",
       "    <tr>\n",
       "      <th>18</th>\n",
       "      <td>Such great actors such a disappointment. Marlo...</td>\n",
       "      <td>neg</td>\n",
       "    </tr>\n",
       "    <tr>\n",
       "      <th>19</th>\n",
       "      <td>I was lucky enough to see Zero Day last night....</td>\n",
       "      <td>pos</td>\n",
       "    </tr>\n",
       "    <tr>\n",
       "      <th>20</th>\n",
       "      <td>Version: Universal / Hong Kong Legends R4 DVD ...</td>\n",
       "      <td>pos</td>\n",
       "    </tr>\n",
       "    <tr>\n",
       "      <th>21</th>\n",
       "      <td>George Lopez is a funny man even without the s...</td>\n",
       "      <td>pos</td>\n",
       "    </tr>\n",
       "    <tr>\n",
       "      <th>22</th>\n",
       "      <td>i'll admit. i think Uma Thurman is the most be...</td>\n",
       "      <td>neg</td>\n",
       "    </tr>\n",
       "    <tr>\n",
       "      <th>23</th>\n",
       "      <td>Enough is enough...sometimes they just need to...</td>\n",
       "      <td>neg</td>\n",
       "    </tr>\n",
       "    <tr>\n",
       "      <th>24</th>\n",
       "      <td>Watching beautiful women sneaking around, play...</td>\n",
       "      <td>neg</td>\n",
       "    </tr>\n",
       "    <tr>\n",
       "      <th>25</th>\n",
       "      <td>The main reason for writing this review is I f...</td>\n",
       "      <td>neg</td>\n",
       "    </tr>\n",
       "    <tr>\n",
       "      <th>26</th>\n",
       "      <td>Starting off, here's a synopsis: Porno queen A...</td>\n",
       "      <td>pos</td>\n",
       "    </tr>\n",
       "    <tr>\n",
       "      <th>27</th>\n",
       "      <td>I loved the episode but seems to me there shou...</td>\n",
       "      <td>pos</td>\n",
       "    </tr>\n",
       "    <tr>\n",
       "      <th>28</th>\n",
       "      <td>Long before \"Brokeback Mountain\" (about 23 yea...</td>\n",
       "      <td>pos</td>\n",
       "    </tr>\n",
       "    <tr>\n",
       "      <th>29</th>\n",
       "      <td>\"Look, I know this may suck right now, but pai...</td>\n",
       "      <td>neg</td>\n",
       "    </tr>\n",
       "    <tr>\n",
       "      <th>30</th>\n",
       "      <td>A very realistic portrait of a broken family a...</td>\n",
       "      <td>pos</td>\n",
       "    </tr>\n",
       "    <tr>\n",
       "      <th>31</th>\n",
       "      <td>Dressed to Kill starts off with Kate Miller (A...</td>\n",
       "      <td>pos</td>\n",
       "    </tr>\n",
       "    <tr>\n",
       "      <th>32</th>\n",
       "      <td>I was very moved by the story and because I am...</td>\n",
       "      <td>pos</td>\n",
       "    </tr>\n",
       "    <tr>\n",
       "      <th>33</th>\n",
       "      <td>Blood Surf AKA Krocodylus is a fair film that ...</td>\n",
       "      <td>neg</td>\n",
       "    </tr>\n",
       "    <tr>\n",
       "      <th>34</th>\n",
       "      <td>There are so many reasons as to why I rate the...</td>\n",
       "      <td>pos</td>\n",
       "    </tr>\n",
       "    <tr>\n",
       "      <th>35</th>\n",
       "      <td>I tried watching this abomination of the cinem...</td>\n",
       "      <td>neg</td>\n",
       "    </tr>\n",
       "    <tr>\n",
       "      <th>36</th>\n",
       "      <td>Welcome to Collinwood is a lot of things, but ...</td>\n",
       "      <td>pos</td>\n",
       "    </tr>\n",
       "    <tr>\n",
       "      <th>37</th>\n",
       "      <td>Awful! Absolutely awful! No plot, no point, no...</td>\n",
       "      <td>neg</td>\n",
       "    </tr>\n",
       "    <tr>\n",
       "      <th>38</th>\n",
       "      <td>Wow, I can't believe i'm the first and only on...</td>\n",
       "      <td>pos</td>\n",
       "    </tr>\n",
       "    <tr>\n",
       "      <th>39</th>\n",
       "      <td>Trying to compare or represent this \"swill\" as...</td>\n",
       "      <td>neg</td>\n",
       "    </tr>\n",
       "    <tr>\n",
       "      <th>40</th>\n",
       "      <td>I searched for this movie for years, apparentl...</td>\n",
       "      <td>pos</td>\n",
       "    </tr>\n",
       "    <tr>\n",
       "      <th>41</th>\n",
       "      <td>I do not envy Barry Levinson, Rachel Weisz, Be...</td>\n",
       "      <td>neg</td>\n",
       "    </tr>\n",
       "    <tr>\n",
       "      <th>42</th>\n",
       "      <td>I have seen my fair share of comedy and standu...</td>\n",
       "      <td>pos</td>\n",
       "    </tr>\n",
       "    <tr>\n",
       "      <th>43</th>\n",
       "      <td>Richard Attenborough who already given us magn...</td>\n",
       "      <td>pos</td>\n",
       "    </tr>\n",
       "    <tr>\n",
       "      <th>44</th>\n",
       "      <td>This movie frequently extrapolates quantum mec...</td>\n",
       "      <td>neg</td>\n",
       "    </tr>\n",
       "    <tr>\n",
       "      <th>45</th>\n",
       "      <td>I was thrilled to watch this movie expecting i...</td>\n",
       "      <td>neg</td>\n",
       "    </tr>\n",
       "    <tr>\n",
       "      <th>46</th>\n",
       "      <td>They had me from the first show.&lt;br /&gt;&lt;br /&gt;We...</td>\n",
       "      <td>pos</td>\n",
       "    </tr>\n",
       "    <tr>\n",
       "      <th>47</th>\n",
       "      <td>is seismic activity with little or negligible ...</td>\n",
       "      <td>neg</td>\n",
       "    </tr>\n",
       "    <tr>\n",
       "      <th>48</th>\n",
       "      <td>Ludicrous. Angelic 9-year-old Annakin turns in...</td>\n",
       "      <td>neg</td>\n",
       "    </tr>\n",
       "    <tr>\n",
       "      <th>49</th>\n",
       "      <td>The movie starts off in a classroom setting wh...</td>\n",
       "      <td>pos</td>\n",
       "    </tr>\n",
       "  </tbody>\n",
       "</table>\n",
       "</div>"
      ],
      "text/plain": [
       "                                              Reviews Sentiment\n",
       "0   When I first tuned in on this morning news, I ...       neg\n",
       "1   Mere thoughts of \"Going Overboard\" (aka \"Babes...       neg\n",
       "2   Why does this movie fall WELL below standards?...       neg\n",
       "3   Wow and I thought that any Steven Segal movie ...       neg\n",
       "4   The story is seen before, but that does'n matt...       neg\n",
       "5   Like so many media experiments, this amateuris...       neg\n",
       "6   This game has the(dis)honor of being the first...       neg\n",
       "7   I think this still is the best routine. There ...       pos\n",
       "8   As far as parody films go, there are few that ...       pos\n",
       "9   Big Bad Ralph is also on the not so squeazy tr...       neg\n",
       "10  \"Panic in the Streets\" is a fairly unknown lit...       pos\n",
       "11  \"How To Lose Friends & Alienate People\" is not...       pos\n",
       "12  I saw this film last night on cable and it is ...       pos\n",
       "13  Unhinged follows the typical plot of the early...       neg\n",
       "14  This first part of the BRD Trilogy has more pa...       pos\n",
       "15  The Cure uses voice over to create an intense ...       pos\n",
       "16  I thought this was a very good movie. It would...       pos\n",
       "17  Great acting on the part of Gretchen Mol. This...       pos\n",
       "18  Such great actors such a disappointment. Marlo...       neg\n",
       "19  I was lucky enough to see Zero Day last night....       pos\n",
       "20  Version: Universal / Hong Kong Legends R4 DVD ...       pos\n",
       "21  George Lopez is a funny man even without the s...       pos\n",
       "22  i'll admit. i think Uma Thurman is the most be...       neg\n",
       "23  Enough is enough...sometimes they just need to...       neg\n",
       "24  Watching beautiful women sneaking around, play...       neg\n",
       "25  The main reason for writing this review is I f...       neg\n",
       "26  Starting off, here's a synopsis: Porno queen A...       pos\n",
       "27  I loved the episode but seems to me there shou...       pos\n",
       "28  Long before \"Brokeback Mountain\" (about 23 yea...       pos\n",
       "29  \"Look, I know this may suck right now, but pai...       neg\n",
       "30  A very realistic portrait of a broken family a...       pos\n",
       "31  Dressed to Kill starts off with Kate Miller (A...       pos\n",
       "32  I was very moved by the story and because I am...       pos\n",
       "33  Blood Surf AKA Krocodylus is a fair film that ...       neg\n",
       "34  There are so many reasons as to why I rate the...       pos\n",
       "35  I tried watching this abomination of the cinem...       neg\n",
       "36  Welcome to Collinwood is a lot of things, but ...       pos\n",
       "37  Awful! Absolutely awful! No plot, no point, no...       neg\n",
       "38  Wow, I can't believe i'm the first and only on...       pos\n",
       "39  Trying to compare or represent this \"swill\" as...       neg\n",
       "40  I searched for this movie for years, apparentl...       pos\n",
       "41  I do not envy Barry Levinson, Rachel Weisz, Be...       neg\n",
       "42  I have seen my fair share of comedy and standu...       pos\n",
       "43  Richard Attenborough who already given us magn...       pos\n",
       "44  This movie frequently extrapolates quantum mec...       neg\n",
       "45  I was thrilled to watch this movie expecting i...       neg\n",
       "46  They had me from the first show.<br /><br />We...       pos\n",
       "47  is seismic activity with little or negligible ...       neg\n",
       "48  Ludicrous. Angelic 9-year-old Annakin turns in...       neg\n",
       "49  The movie starts off in a classroom setting wh...       pos"
      ]
     },
     "execution_count": 54,
     "metadata": {},
     "output_type": "execute_result"
    }
   ],
   "source": [
    "df.head(50)"
   ]
  },
  {
   "cell_type": "code",
   "execution_count": 55,
   "metadata": {},
   "outputs": [
    {
     "data": {
      "text/plain": [
       "(25000, 2)"
      ]
     },
     "execution_count": 55,
     "metadata": {},
     "output_type": "execute_result"
    },
    {
     "data": {
      "text/plain": [
       "(25000, 2)"
      ]
     },
     "execution_count": 55,
     "metadata": {},
     "output_type": "execute_result"
    }
   ],
   "source": [
    "df.shape"
   ]
  },
  {
   "cell_type": "code",
   "execution_count": 56,
   "metadata": {},
   "outputs": [
    {
     "data": {
      "text/plain": [
       "<matplotlib.axes._subplots.AxesSubplot at 0x12f255438>"
      ]
     },
     "execution_count": 56,
     "metadata": {},
     "output_type": "execute_result"
    },
    {
     "data": {
      "text/plain": [
       "<matplotlib.axes._subplots.AxesSubplot at 0x12f255438>"
      ]
     },
     "execution_count": 56,
     "metadata": {},
     "output_type": "execute_result"
    },
    {
     "data": {
      "image/png": "[encoded data removed]",
      "text/plain": [
       "<Figure size 432x288 with 1 Axes>"
      ]
     },
     "metadata": {
      "needs_background": "light"
     },
     "output_type": "display_data"
    },
    {
     "data": {
      "image/png": "[encoded data removed]",
      "text/plain": [
       "<Figure size 432x288 with 1 Axes>"
      ]
     },
     "metadata": {
      "needs_background": "light"
     },
     "output_type": "display_data"
    }
   ],
   "source": [
    "df['Sentiment'].value_counts().plot(kind='bar')"
   ]
  },
  {
   "cell_type": "code",
   "execution_count": 57,
   "metadata": {},
   "outputs": [],
   "source": [
    "df['Sentiment'] = df['Sentiment'].replace({'pos':1,'neg':0})"
   ]
  },
  {
   "cell_type": "code",
   "execution_count": 58,
   "metadata": {},
   "outputs": [
    {
     "data": {
      "text/plain": [
       "1    12500\n",
       "0    12500\n",
       "Name: Sentiment, dtype: int64"
      ]
     },
     "execution_count": 58,
     "metadata": {},
     "output_type": "execute_result"
    },
    {
     "data": {
      "text/plain": [
       "1    12500\n",
       "0    12500\n",
       "Name: Sentiment, dtype: int64"
      ]
     },
     "execution_count": 58,
     "metadata": {},
     "output_type": "execute_result"
    }
   ],
   "source": [
    "df['Sentiment'].value_counts()"
   ]
  },
  {
   "cell_type": "code",
   "execution_count": 59,
   "metadata": {},
   "outputs": [
    {
     "data": {
      "text/plain": [
       "Reviews      object\n",
       "Sentiment     int64\n",
       "dtype: object"
      ]
     },
     "execution_count": 59,
     "metadata": {},
     "output_type": "execute_result"
    },
    {
     "data": {
      "text/plain": [
       "Reviews      object\n",
       "Sentiment     int64\n",
       "dtype: object"
      ]
     },
     "execution_count": 59,
     "metadata": {},
     "output_type": "execute_result"
    }
   ],
   "source": [
    "df.dtypes"
   ]
  },
  {
   "cell_type": "markdown",
   "metadata": {},
   "source": [
    "# Text Preprocessing "
   ]
  },
  {
   "cell_type": "markdown",
   "metadata": {},
   "source": [
    "# Lower case conversion"
   ]
  },
  {
   "cell_type": "code",
   "execution_count": 60,
   "metadata": {},
   "outputs": [],
   "source": [
    "df['Reviews'] = df['Reviews'].apply(lambda x: str(x).lower())"
   ]
  },
  {
   "cell_type": "code",
   "execution_count": 61,
   "metadata": {},
   "outputs": [
    {
     "data": {
      "text/plain": [
       "0    when i first tuned in on this morning news, i ...\n",
       "1    mere thoughts of \"going overboard\" (aka \"babes...\n",
       "2    why does this movie fall well below standards?...\n",
       "3    wow and i thought that any steven segal movie ...\n",
       "4    the story is seen before, but that does'n matt...\n",
       "Name: Reviews, dtype: object"
      ]
     },
     "execution_count": 61,
     "metadata": {},
     "output_type": "execute_result"
    },
    {
     "data": {
      "text/plain": [
       "0    when i first tuned in on this morning news, i ...\n",
       "1    mere thoughts of \"going overboard\" (aka \"babes...\n",
       "2    why does this movie fall well below standards?...\n",
       "3    wow and i thought that any steven segal movie ...\n",
       "4    the story is seen before, but that does'n matt...\n",
       "Name: Reviews, dtype: object"
      ]
     },
     "execution_count": 61,
     "metadata": {},
     "output_type": "execute_result"
    }
   ],
   "source": [
    "df['Reviews'].head()"
   ]
  },
  {
   "cell_type": "markdown",
   "metadata": {},
   "source": [
    "# Contraction to Expansion"
   ]
  },
  {
   "cell_type": "code",
   "execution_count": 62,
   "metadata": {},
   "outputs": [],
   "source": [
    "contractions = { \n",
    "\t\"ain't\": \"am not\",\n",
    "\t\"aren't\": \"are not\",\n",
    "\t\"can't\": \"cannot\",\n",
    "\t\"can't've\": \"cannot have\",\n",
    "\t\"'cause\": \"because\",\n",
    "\t\"could've\": \"could have\",\n",
    "\t\"couldn't\": \"could not\",\n",
    "\t\"couldn't've\": \"could not have\",\n",
    "\t\"didn't\": \"did not\",\n",
    "\t\"doesn't\": \"does not\",\n",
    "\t\"does'n\":  \"does not\",\n",
    "\t\"don't\": \"do not\",\n",
    "\t\"hadn't\": \"had not\",\n",
    "\t\"hadn't've\": \"had not have\",\n",
    "\t\"hasn't\": \"has not\",\n",
    "\t\"haven't\": \"have not\",\n",
    "\t\"he'd\": \"he would\",\n",
    "\t\"he'd've\": \"he would have\",\n",
    "\t\"he'll\": \"he will\",\n",
    "\t\"he'll've\": \"he will have\",\n",
    "\t\"he's\": \"he is\",\n",
    "\t\"how'd\": \"how did\",\n",
    "\t\"how'd'y\": \"how do you\",\n",
    "\t\"how'll\": \"how will\",\n",
    "\t\"how's\": \"how does\",\n",
    "\t\"i'd\": \"i would\",\n",
    "\t\"i'd've\": \"i would have\",\n",
    "\t\"i'll\": \"i will\",\n",
    "\t\"i'll've\": \"i will have\",\n",
    "\t\"i'm\": \"i am\",\n",
    "\t\"i've\": \"i have\",\n",
    "\t\"isn't\": \"is not\",\n",
    "\t\"it'd\": \"it would\",\n",
    "\t\"it'd've\": \"it would have\",\n",
    "\t\"it'll\": \"it will\",\n",
    "\t\"it'll've\": \"it will have\",\n",
    "\t\"it's\": \"it is\",\n",
    "\t\"let's\": \"let us\",\n",
    "\t\"ma'am\": \"madam\",\n",
    "\t\"mayn't\": \"may not\",\n",
    "\t\"might've\": \"might have\",\n",
    "\t\"mightn't\": \"might not\",\n",
    "\t\"mightn't've\": \"might not have\",\n",
    "\t\"must've\": \"must have\",\n",
    "\t\"mustn't\": \"must not\",\n",
    "\t\"mustn't've\": \"must not have\",\n",
    "\t\"needn't\": \"need not\",\n",
    "\t\"needn't've\": \"need not have\",\n",
    "\t\"o'clock\": \"of the clock\",\n",
    "\t\"oughtn't\": \"ought not\",\n",
    "\t\"oughtn't've\": \"ought not have\",\n",
    "\t\"shan't\": \"shall not\",\n",
    "\t\"sha'n't\": \"shall not\",\n",
    "\t\"shan't've\": \"shall not have\",\n",
    "\t\"she'd\": \"she would\",\n",
    "\t\"she'd've\": \"she would have\",\n",
    "\t\"she'll\": \"she will\",\n",
    "\t\"she'll've\": \"she will have\",\n",
    "\t\"she's\": \"she is\",\n",
    "\t\"should've\": \"should have\",\n",
    "\t\"shouldn't\": \"should not\",\n",
    "\t\"shouldn't've\": \"should not have\",\n",
    "\t\"so've\": \"so have\",\n",
    "\t\"so's\": \"so is\",\n",
    "\t\"that'd\": \"that would\",\n",
    "\t\"that'd've\": \"that would have\",\n",
    "\t\"that's\": \"that is\",\n",
    "\t\"there'd\": \"there would\",\n",
    "\t\"there'd've\": \"there would have\",\n",
    "\t\"there's\": \"there is\",\n",
    "\t\"they'd\": \"they would\",\n",
    "\t\"they'd've\": \"they would have\",\n",
    "\t\"they'll\": \"they will\",\n",
    "\t\"they'll've\": \"they will have\",\n",
    "\t\"they're\": \"they are\",\n",
    "\t\"they've\": \"they have\",\n",
    "\t\"to've\": \"to have\",\n",
    "\t\"wasn't\": \"was not\",\n",
    "\t\" u \": \" you \",\n",
    "\t\" ur \": \" your \",\n",
    "\t\" n \": \" and \",\n",
    "\t\"won't\": \"would not\",\n",
    "\t'dis': 'this',\n",
    "\t'bak': 'back',\n",
    "\t'brng': 'bring'}\n",
    "\n"
   ]
  },
  {
   "cell_type": "code",
   "execution_count": 63,
   "metadata": {},
   "outputs": [],
   "source": [
    "def cont_to_exp(x):\n",
    "    if type(x) is str:\n",
    "        for key in contractions:\n",
    "            value = contractions[key]\n",
    "            x = x.replace(key,value)\n",
    "        return x\n",
    "    else:\n",
    "        return x"
   ]
  },
  {
   "cell_type": "code",
   "execution_count": 64,
   "metadata": {},
   "outputs": [],
   "source": [
    "df['Reviews'] = df['Reviews'].apply(lambda x: cont_to_exp(x))"
   ]
  },
  {
   "cell_type": "code",
   "execution_count": 65,
   "metadata": {},
   "outputs": [
    {
     "data": {
      "text/html": [
       "<div>\n",
       "<style scoped>\n",
       "    .dataframe tbody tr th:only-of-type {\n",
       "        vertical-align: middle;\n",
       "    }\n",
       "\n",
       "    .dataframe tbody tr th {\n",
       "        vertical-align: top;\n",
       "    }\n",
       "\n",
       "    .dataframe thead th {\n",
       "        text-align: right;\n",
       "    }\n",
       "</style>\n",
       "<table border=\"1\" class=\"dataframe\">\n",
       "  <thead>\n",
       "    <tr style=\"text-align: right;\">\n",
       "      <th></th>\n",
       "      <th>Reviews</th>\n",
       "      <th>Sentiment</th>\n",
       "    </tr>\n",
       "  </thead>\n",
       "  <tbody>\n",
       "    <tr>\n",
       "      <th>0</th>\n",
       "      <td>when i first tuned in on this morning news, i ...</td>\n",
       "      <td>0</td>\n",
       "    </tr>\n",
       "    <tr>\n",
       "      <th>1</th>\n",
       "      <td>mere thoughts of \"going overboard\" (aka \"babes...</td>\n",
       "      <td>0</td>\n",
       "    </tr>\n",
       "    <tr>\n",
       "      <th>2</th>\n",
       "      <td>why does this movie fall well below standards?...</td>\n",
       "      <td>0</td>\n",
       "    </tr>\n",
       "    <tr>\n",
       "      <th>3</th>\n",
       "      <td>wow and i thought that any steven segal movie ...</td>\n",
       "      <td>0</td>\n",
       "    </tr>\n",
       "    <tr>\n",
       "      <th>4</th>\n",
       "      <td>the story is seen before, but that does not ma...</td>\n",
       "      <td>0</td>\n",
       "    </tr>\n",
       "    <tr>\n",
       "      <th>5</th>\n",
       "      <td>like so many media experiments, this amateuris...</td>\n",
       "      <td>0</td>\n",
       "    </tr>\n",
       "    <tr>\n",
       "      <th>6</th>\n",
       "      <td>this game has the(this)honor of being the firs...</td>\n",
       "      <td>0</td>\n",
       "    </tr>\n",
       "    <tr>\n",
       "      <th>7</th>\n",
       "      <td>i think this still is the best routine. there ...</td>\n",
       "      <td>1</td>\n",
       "    </tr>\n",
       "    <tr>\n",
       "      <th>8</th>\n",
       "      <td>as far as parody films go, there are few that ...</td>\n",
       "      <td>1</td>\n",
       "    </tr>\n",
       "    <tr>\n",
       "      <th>9</th>\n",
       "      <td>big bad ralph is also on the not so squeazy tr...</td>\n",
       "      <td>0</td>\n",
       "    </tr>\n",
       "  </tbody>\n",
       "</table>\n",
       "</div>"
      ],
      "text/plain": [
       "                                             Reviews  Sentiment\n",
       "0  when i first tuned in on this morning news, i ...          0\n",
       "1  mere thoughts of \"going overboard\" (aka \"babes...          0\n",
       "2  why does this movie fall well below standards?...          0\n",
       "3  wow and i thought that any steven segal movie ...          0\n",
       "4  the story is seen before, but that does not ma...          0\n",
       "5  like so many media experiments, this amateuris...          0\n",
       "6  this game has the(this)honor of being the firs...          0\n",
       "7  i think this still is the best routine. there ...          1\n",
       "8  as far as parody films go, there are few that ...          1\n",
       "9  big bad ralph is also on the not so squeazy tr...          0"
      ]
     },
     "execution_count": 65,
     "metadata": {},
     "output_type": "execute_result"
    },
    {
     "data": {
      "text/html": [
       "<div>\n",
       "<style scoped>\n",
       "    .dataframe tbody tr th:only-of-type {\n",
       "        vertical-align: middle;\n",
       "    }\n",
       "\n",
       "    .dataframe tbody tr th {\n",
       "        vertical-align: top;\n",
       "    }\n",
       "\n",
       "    .dataframe thead th {\n",
       "        text-align: right;\n",
       "    }\n",
       "</style>\n",
       "<table border=\"1\" class=\"dataframe\">\n",
       "  <thead>\n",
       "    <tr style=\"text-align: right;\">\n",
       "      <th></th>\n",
       "      <th>Reviews</th>\n",
       "      <th>Sentiment</th>\n",
       "    </tr>\n",
       "  </thead>\n",
       "  <tbody>\n",
       "    <tr>\n",
       "      <th>0</th>\n",
       "      <td>when i first tuned in on this morning news, i ...</td>\n",
       "      <td>0</td>\n",
       "    </tr>\n",
       "    <tr>\n",
       "      <th>1</th>\n",
       "      <td>mere thoughts of \"going overboard\" (aka \"babes...</td>\n",
       "      <td>0</td>\n",
       "    </tr>\n",
       "    <tr>\n",
       "      <th>2</th>\n",
       "      <td>why does this movie fall well below standards?...</td>\n",
       "      <td>0</td>\n",
       "    </tr>\n",
       "    <tr>\n",
       "      <th>3</th>\n",
       "      <td>wow and i thought that any steven segal movie ...</td>\n",
       "      <td>0</td>\n",
       "    </tr>\n",
       "    <tr>\n",
       "      <th>4</th>\n",
       "      <td>the story is seen before, but that does not ma...</td>\n",
       "      <td>0</td>\n",
       "    </tr>\n",
       "    <tr>\n",
       "      <th>5</th>\n",
       "      <td>like so many media experiments, this amateuris...</td>\n",
       "      <td>0</td>\n",
       "    </tr>\n",
       "    <tr>\n",
       "      <th>6</th>\n",
       "      <td>this game has the(this)honor of being the firs...</td>\n",
       "      <td>0</td>\n",
       "    </tr>\n",
       "    <tr>\n",
       "      <th>7</th>\n",
       "      <td>i think this still is the best routine. there ...</td>\n",
       "      <td>1</td>\n",
       "    </tr>\n",
       "    <tr>\n",
       "      <th>8</th>\n",
       "      <td>as far as parody films go, there are few that ...</td>\n",
       "      <td>1</td>\n",
       "    </tr>\n",
       "    <tr>\n",
       "      <th>9</th>\n",
       "      <td>big bad ralph is also on the not so squeazy tr...</td>\n",
       "      <td>0</td>\n",
       "    </tr>\n",
       "  </tbody>\n",
       "</table>\n",
       "</div>"
      ],
      "text/plain": [
       "                                             Reviews  Sentiment\n",
       "0  when i first tuned in on this morning news, i ...          0\n",
       "1  mere thoughts of \"going overboard\" (aka \"babes...          0\n",
       "2  why does this movie fall well below standards?...          0\n",
       "3  wow and i thought that any steven segal movie ...          0\n",
       "4  the story is seen before, but that does not ma...          0\n",
       "5  like so many media experiments, this amateuris...          0\n",
       "6  this game has the(this)honor of being the firs...          0\n",
       "7  i think this still is the best routine. there ...          1\n",
       "8  as far as parody films go, there are few that ...          1\n",
       "9  big bad ralph is also on the not so squeazy tr...          0"
      ]
     },
     "execution_count": 65,
     "metadata": {},
     "output_type": "execute_result"
    }
   ],
   "source": [
    "df.head(10)"
   ]
  },
  {
   "cell_type": "markdown",
   "metadata": {},
   "source": [
    "# Removal of emails from the Reviews"
   ]
  },
  {
   "cell_type": "code",
   "execution_count": 66,
   "metadata": {},
   "outputs": [],
   "source": [
    "df['Reviews'] = df['Reviews'].apply(lambda x:re.sub(r'([a-zA-Z0-9+._-]+@[a-zA-Z0-9._-]+\\.[a-zA-Z0-9_-]+)','', x) )"
   ]
  },
  {
   "cell_type": "markdown",
   "metadata": {},
   "source": [
    "# Removal of urls"
   ]
  },
  {
   "cell_type": "code",
   "execution_count": 67,
   "metadata": {},
   "outputs": [],
   "source": [
    "df['Reviews'] = df['Reviews'].apply(lambda x:re.sub(r'(http|ftp|https)://([\\w_-]+(?:(?:\\.[\\w_-]+)+))([\\w.,@?^=%&:/~+#-]*[\\w@?^=%&/~+#-])?', '',x))"
   ]
  },
  {
   "cell_type": "markdown",
   "metadata": {},
   "source": [
    "# Punctuations & Special character Removal"
   ]
  },
  {
   "cell_type": "code",
   "execution_count": 68,
   "metadata": {},
   "outputs": [],
   "source": [
    "xa = '@#$%^&*mahesh'"
   ]
  },
  {
   "cell_type": "code",
   "execution_count": 69,
   "metadata": {},
   "outputs": [
    {
     "data": {
      "text/plain": [
       "'mahesh'"
      ]
     },
     "execution_count": 69,
     "metadata": {},
     "output_type": "execute_result"
    },
    {
     "data": {
      "text/plain": [
       "'mahesh'"
      ]
     },
     "execution_count": 69,
     "metadata": {},
     "output_type": "execute_result"
    }
   ],
   "source": [
    "re.sub('[^A-Z a-z 0-9-]+', '',xa)"
   ]
  },
  {
   "cell_type": "code",
   "execution_count": 70,
   "metadata": {},
   "outputs": [],
   "source": [
    "df['Reviews'] = df['Reviews'].apply(lambda x:re.sub('[^A-Z a-z 0-9-]+', '',x))"
   ]
  },
  {
   "cell_type": "markdown",
   "metadata": {},
   "source": [
    "# Removal of multiple spaces"
   ]
  },
  {
   "cell_type": "code",
   "execution_count": 71,
   "metadata": {},
   "outputs": [],
   "source": [
    "df['Reviews'] = df['Reviews'].apply(lambda x:\" \".join(x.split()))"
   ]
  },
  {
   "cell_type": "markdown",
   "metadata": {},
   "source": [
    "# Removal of accented characters"
   ]
  },
  {
   "cell_type": "code",
   "execution_count": 72,
   "metadata": {},
   "outputs": [],
   "source": [
    "import unicodedata"
   ]
  },
  {
   "cell_type": "code",
   "execution_count": 73,
   "metadata": {},
   "outputs": [],
   "source": [
    "def remove_accented_char(x):\n",
    "    x = unicodedata.normalize('NFKD',x).encode('ascii','ignore').decode('utf-8','ignore')\n",
    "    return x"
   ]
  },
  {
   "cell_type": "code",
   "execution_count": 74,
   "metadata": {},
   "outputs": [],
   "source": [
    "df['Reviews'] = df['Reviews'].apply(lambda x:remove_accented_char(x))"
   ]
  },
  {
   "cell_type": "markdown",
   "metadata": {},
   "source": [
    "# STOP WORDS Removal"
   ]
  },
  {
   "cell_type": "code",
   "execution_count": 75,
   "metadata": {},
   "outputs": [],
   "source": [
    "df['Reviews'] = df['Reviews'].apply(lambda x:\" \".join([t for t in x.split() if t not in STOP_WORDS]))"
   ]
  },
  {
   "cell_type": "code",
   "execution_count": 76,
   "metadata": {},
   "outputs": [
    {
     "data": {
      "text/html": [
       "<div>\n",
       "<style scoped>\n",
       "    .dataframe tbody tr th:only-of-type {\n",
       "        vertical-align: middle;\n",
       "    }\n",
       "\n",
       "    .dataframe tbody tr th {\n",
       "        vertical-align: top;\n",
       "    }\n",
       "\n",
       "    .dataframe thead th {\n",
       "        text-align: right;\n",
       "    }\n",
       "</style>\n",
       "<table border=\"1\" class=\"dataframe\">\n",
       "  <thead>\n",
       "    <tr style=\"text-align: right;\">\n",
       "      <th></th>\n",
       "      <th>Reviews</th>\n",
       "      <th>Sentiment</th>\n",
       "    </tr>\n",
       "  </thead>\n",
       "  <tbody>\n",
       "    <tr>\n",
       "      <th>0</th>\n",
       "      <td>tuned morning news thought wow finally enterta...</td>\n",
       "      <td>0</td>\n",
       "    </tr>\n",
       "    <tr>\n",
       "      <th>1</th>\n",
       "      <td>mere thoughts going overboard aka babes ahoy w...</td>\n",
       "      <td>0</td>\n",
       "    </tr>\n",
       "    <tr>\n",
       "      <th>2</th>\n",
       "      <td>movie fall standards ultimately answer lies po...</td>\n",
       "      <td>0</td>\n",
       "    </tr>\n",
       "    <tr>\n",
       "      <th>3</th>\n",
       "      <td>wow thought steven segal movie bad time though...</td>\n",
       "      <td>0</td>\n",
       "    </tr>\n",
       "    <tr>\n",
       "      <th>4</th>\n",
       "      <td>story seen matter figure proper storyboard cle...</td>\n",
       "      <td>0</td>\n",
       "    </tr>\n",
       "    <tr>\n",
       "      <th>5</th>\n",
       "      <td>like media experiments amateurish effort conta...</td>\n",
       "      <td>0</td>\n",
       "    </tr>\n",
       "    <tr>\n",
       "      <th>6</th>\n",
       "      <td>game thethishonor game stopped playing right m...</td>\n",
       "      <td>0</td>\n",
       "    </tr>\n",
       "    <tr>\n",
       "      <th>7</th>\n",
       "      <td>think best routine like rocks bring pain allen...</td>\n",
       "      <td>1</td>\n",
       "    </tr>\n",
       "    <tr>\n",
       "      <th>8</th>\n",
       "      <td>far parody films worth time energy recent resu...</td>\n",
       "      <td>1</td>\n",
       "    </tr>\n",
       "    <tr>\n",
       "      <th>9</th>\n",
       "      <td>big bad ralph squeazy truck commercials found ...</td>\n",
       "      <td>0</td>\n",
       "    </tr>\n",
       "  </tbody>\n",
       "</table>\n",
       "</div>"
      ],
      "text/plain": [
       "                                             Reviews  Sentiment\n",
       "0  tuned morning news thought wow finally enterta...          0\n",
       "1  mere thoughts going overboard aka babes ahoy w...          0\n",
       "2  movie fall standards ultimately answer lies po...          0\n",
       "3  wow thought steven segal movie bad time though...          0\n",
       "4  story seen matter figure proper storyboard cle...          0\n",
       "5  like media experiments amateurish effort conta...          0\n",
       "6  game thethishonor game stopped playing right m...          0\n",
       "7  think best routine like rocks bring pain allen...          1\n",
       "8  far parody films worth time energy recent resu...          1\n",
       "9  big bad ralph squeazy truck commercials found ...          0"
      ]
     },
     "execution_count": 76,
     "metadata": {},
     "output_type": "execute_result"
    },
    {
     "data": {
      "text/html": [
       "<div>\n",
       "<style scoped>\n",
       "    .dataframe tbody tr th:only-of-type {\n",
       "        vertical-align: middle;\n",
       "    }\n",
       "\n",
       "    .dataframe tbody tr th {\n",
       "        vertical-align: top;\n",
       "    }\n",
       "\n",
       "    .dataframe thead th {\n",
       "        text-align: right;\n",
       "    }\n",
       "</style>\n",
       "<table border=\"1\" class=\"dataframe\">\n",
       "  <thead>\n",
       "    <tr style=\"text-align: right;\">\n",
       "      <th></th>\n",
       "      <th>Reviews</th>\n",
       "      <th>Sentiment</th>\n",
       "    </tr>\n",
       "  </thead>\n",
       "  <tbody>\n",
       "    <tr>\n",
       "      <th>0</th>\n",
       "      <td>tuned morning news thought wow finally enterta...</td>\n",
       "      <td>0</td>\n",
       "    </tr>\n",
       "    <tr>\n",
       "      <th>1</th>\n",
       "      <td>mere thoughts going overboard aka babes ahoy w...</td>\n",
       "      <td>0</td>\n",
       "    </tr>\n",
       "    <tr>\n",
       "      <th>2</th>\n",
       "      <td>movie fall standards ultimately answer lies po...</td>\n",
       "      <td>0</td>\n",
       "    </tr>\n",
       "    <tr>\n",
       "      <th>3</th>\n",
       "      <td>wow thought steven segal movie bad time though...</td>\n",
       "      <td>0</td>\n",
       "    </tr>\n",
       "    <tr>\n",
       "      <th>4</th>\n",
       "      <td>story seen matter figure proper storyboard cle...</td>\n",
       "      <td>0</td>\n",
       "    </tr>\n",
       "    <tr>\n",
       "      <th>5</th>\n",
       "      <td>like media experiments amateurish effort conta...</td>\n",
       "      <td>0</td>\n",
       "    </tr>\n",
       "    <tr>\n",
       "      <th>6</th>\n",
       "      <td>game thethishonor game stopped playing right m...</td>\n",
       "      <td>0</td>\n",
       "    </tr>\n",
       "    <tr>\n",
       "      <th>7</th>\n",
       "      <td>think best routine like rocks bring pain allen...</td>\n",
       "      <td>1</td>\n",
       "    </tr>\n",
       "    <tr>\n",
       "      <th>8</th>\n",
       "      <td>far parody films worth time energy recent resu...</td>\n",
       "      <td>1</td>\n",
       "    </tr>\n",
       "    <tr>\n",
       "      <th>9</th>\n",
       "      <td>big bad ralph squeazy truck commercials found ...</td>\n",
       "      <td>0</td>\n",
       "    </tr>\n",
       "  </tbody>\n",
       "</table>\n",
       "</div>"
      ],
      "text/plain": [
       "                                             Reviews  Sentiment\n",
       "0  tuned morning news thought wow finally enterta...          0\n",
       "1  mere thoughts going overboard aka babes ahoy w...          0\n",
       "2  movie fall standards ultimately answer lies po...          0\n",
       "3  wow thought steven segal movie bad time though...          0\n",
       "4  story seen matter figure proper storyboard cle...          0\n",
       "5  like media experiments amateurish effort conta...          0\n",
       "6  game thethishonor game stopped playing right m...          0\n",
       "7  think best routine like rocks bring pain allen...          1\n",
       "8  far parody films worth time energy recent resu...          1\n",
       "9  big bad ralph squeazy truck commercials found ...          0"
      ]
     },
     "execution_count": 76,
     "metadata": {},
     "output_type": "execute_result"
    }
   ],
   "source": [
    "df.head(10)"
   ]
  },
  {
   "cell_type": "markdown",
   "metadata": {},
   "source": [
    "# Removal of multiple repeated characters\n",
    "#### if a letter is repeated more than two  times"
   ]
  },
  {
   "cell_type": "code",
   "execution_count": 77,
   "metadata": {},
   "outputs": [],
   "source": [
    "eg = 'myyy nameee mahhheshhhh'"
   ]
  },
  {
   "cell_type": "code",
   "execution_count": 78,
   "metadata": {},
   "outputs": [
    {
     "data": {
      "text/plain": [
       "'my name mahesh'"
      ]
     },
     "execution_count": 78,
     "metadata": {},
     "output_type": "execute_result"
    },
    {
     "data": {
      "text/plain": [
       "'my name mahesh'"
      ]
     },
     "execution_count": 78,
     "metadata": {},
     "output_type": "execute_result"
    }
   ],
   "source": [
    "re.sub(\"(.)\\\\1{2,}\",\"\\\\1\",eg)"
   ]
  },
  {
   "cell_type": "code",
   "execution_count": 79,
   "metadata": {},
   "outputs": [],
   "source": [
    "df['Reviews'] = df['Reviews'].apply(lambda x:re.sub(\"(.)\\\\1{2,}\",\"\\\\1\",x))"
   ]
  },
  {
   "cell_type": "markdown",
   "metadata": {},
   "source": [
    "# Word cloud"
   ]
  },
  {
   "cell_type": "code",
   "execution_count": 80,
   "metadata": {},
   "outputs": [],
   "source": [
    "from wordcloud import WordCloud\n",
    "import matplotlib.pyplot as plt\n",
    "%matplotlib inline"
   ]
  },
  {
   "cell_type": "code",
   "execution_count": 81,
   "metadata": {},
   "outputs": [
    {
     "data": {
      "text/plain": [
       "25000"
      ]
     },
     "execution_count": 81,
     "metadata": {},
     "output_type": "execute_result"
    },
    {
     "data": {
      "text/plain": [
       "25000"
      ]
     },
     "execution_count": 81,
     "metadata": {},
     "output_type": "execute_result"
    }
   ],
   "source": [
    "len(df)"
   ]
  },
  {
   "cell_type": "code",
   "execution_count": 82,
   "metadata": {},
   "outputs": [],
   "source": [
    "text = ' '.join(df['Reviews'])"
   ]
  },
  {
   "cell_type": "code",
   "execution_count": 83,
   "metadata": {},
   "outputs": [],
   "source": [
    "text = text.split()"
   ]
  },
  {
   "cell_type": "code",
   "execution_count": 84,
   "metadata": {},
   "outputs": [
    {
     "data": {
      "text/plain": [
       "2682689"
      ]
     },
     "execution_count": 84,
     "metadata": {},
     "output_type": "execute_result"
    },
    {
     "data": {
      "text/plain": [
       "2682689"
      ]
     },
     "execution_count": 84,
     "metadata": {},
     "output_type": "execute_result"
    }
   ],
   "source": [
    "len(text)"
   ]
  },
  {
   "cell_type": "code",
   "execution_count": 85,
   "metadata": {},
   "outputs": [],
   "source": [
    "x = ' '.join(text[0:26700])"
   ]
  },
  {
   "cell_type": "code",
   "execution_count": 86,
   "metadata": {},
   "outputs": [
    {
     "data": {
      "image/png": "[encoded data removed]",
      "text/plain": [
       "<Figure size 432x288 with 1 Axes>"
      ]
     },
     "metadata": {
      "needs_background": "light"
     },
     "output_type": "display_data"
    },
    {
     "data": {
      "image/png": "[encoded data removed]",
      "text/plain": [
       "<Figure size 432x288 with 1 Axes>"
      ]
     },
     "metadata": {
      "needs_background": "light"
     },
     "output_type": "display_data"
    }
   ],
   "source": [
    "wc = WordCloud(width = 800,height = 400).generate(x)\n",
    "plt.imshow(wc)\n",
    "plt.axis('off')\n",
    "plt.show()"
   ]
  },
  {
   "cell_type": "markdown",
   "metadata": {},
   "source": [
    "# MODEL BUILDING "
   ]
  },
  {
   "cell_type": "markdown",
   "metadata": {},
   "source": [
    "# TF-IDF count vectorizer"
   ]
  },
  {
   "cell_type": "code",
   "execution_count": 87,
   "metadata": {},
   "outputs": [],
   "source": [
    "from sklearn.feature_extraction.text import TfidfVectorizer\n",
    "from sklearn.model_selection import train_test_split\n",
    "from sklearn.metrics import classification_report\n",
    "from sklearn.svm import LinearSVC\n",
    "import pickle"
   ]
  },
  {
   "cell_type": "code",
   "execution_count": 88,
   "metadata": {},
   "outputs": [],
   "source": [
    "tfidf = TfidfVectorizer(max_features=10000)"
   ]
  },
  {
   "cell_type": "code",
   "execution_count": 89,
   "metadata": {},
   "outputs": [
    {
     "data": {
      "text/plain": [
       "0        tuned morning news thought wow finally enterta...\n",
       "1        mere thoughts going overboard aka babes ahoy w...\n",
       "2        movie fall standards ultimately answer lies po...\n",
       "3        wow thought steven segal movie bad time though...\n",
       "4        story seen matter figure proper storyboard cle...\n",
       "                               ...                        \n",
       "24995    plays pretty little nice movie belushi gets ch...\n",
       "24996    happened assault prescient 13 2005 happened lo...\n",
       "24997    god movie awful complain went grossed suffice ...\n",
       "24998    popped happy birthday checked timer long film ...\n",
       "24999    suck unfortunately question doubt doesbr br un...\n",
       "Name: Reviews, Length: 25000, dtype: object"
      ]
     },
     "execution_count": 89,
     "metadata": {},
     "output_type": "execute_result"
    },
    {
     "data": {
      "text/plain": [
       "0        tuned morning news thought wow finally enterta...\n",
       "1        mere thoughts going overboard aka babes ahoy w...\n",
       "2        movie fall standards ultimately answer lies po...\n",
       "3        wow thought steven segal movie bad time though...\n",
       "4        story seen matter figure proper storyboard cle...\n",
       "                               ...                        \n",
       "24995    plays pretty little nice movie belushi gets ch...\n",
       "24996    happened assault prescient 13 2005 happened lo...\n",
       "24997    god movie awful complain went grossed suffice ...\n",
       "24998    popped happy birthday checked timer long film ...\n",
       "24999    suck unfortunately question doubt doesbr br un...\n",
       "Name: Reviews, Length: 25000, dtype: object"
      ]
     },
     "execution_count": 89,
     "metadata": {},
     "output_type": "execute_result"
    }
   ],
   "source": [
    "df['Reviews']"
   ]
  },
  {
   "cell_type": "code",
   "execution_count": 90,
   "metadata": {},
   "outputs": [],
   "source": [
    "X = df['Reviews']\n",
    "y = df['Sentiment']"
   ]
  },
  {
   "cell_type": "code",
   "execution_count": 91,
   "metadata": {},
   "outputs": [],
   "source": [
    "X =tfidf.fit_transform(X)"
   ]
  },
  {
   "cell_type": "code",
   "execution_count": 92,
   "metadata": {},
   "outputs": [],
   "source": [
    "pickle.dump(tfidf,open('transform.pkl','wb'))"
   ]
  },
  {
   "cell_type": "code",
   "execution_count": 93,
   "metadata": {},
   "outputs": [
    {
     "data": {
      "text/plain": [
       "(25000, 10000)"
      ]
     },
     "execution_count": 93,
     "metadata": {},
     "output_type": "execute_result"
    },
    {
     "data": {
      "text/plain": [
       "(25000, 10000)"
      ]
     },
     "execution_count": 93,
     "metadata": {},
     "output_type": "execute_result"
    }
   ],
   "source": [
    "X.shape"
   ]
  },
  {
   "cell_type": "code",
   "execution_count": 94,
   "metadata": {},
   "outputs": [
    {
     "data": {
      "text/plain": [
       "<25000x10000 sparse matrix of type '<class 'numpy.float64'>'\n",
       "\twith 1906251 stored elements in Compressed Sparse Row format>"
      ]
     },
     "execution_count": 94,
     "metadata": {},
     "output_type": "execute_result"
    },
    {
     "data": {
      "text/plain": [
       "<25000x10000 sparse matrix of type '<class 'numpy.float64'>'\n",
       "\twith 1906251 stored elements in Compressed Sparse Row format>"
      ]
     },
     "execution_count": 94,
     "metadata": {},
     "output_type": "execute_result"
    }
   ],
   "source": [
    "X"
   ]
  },
  {
   "cell_type": "code",
   "execution_count": 95,
   "metadata": {},
   "outputs": [],
   "source": [
    "X_train,X_test,y_train,y_test = train_test_split(X,y,test_size=0.3,random_state=0)"
   ]
  },
  {
   "cell_type": "markdown",
   "metadata": {},
   "source": [
    "# Linear svc"
   ]
  },
  {
   "cell_type": "code",
   "execution_count": 96,
   "metadata": {},
   "outputs": [],
   "source": [
    "model = LinearSVC()"
   ]
  },
  {
   "cell_type": "code",
   "execution_count": 97,
   "metadata": {},
   "outputs": [
    {
     "data": {
      "text/plain": [
       "LinearSVC()"
      ]
     },
     "execution_count": 97,
     "metadata": {},
     "output_type": "execute_result"
    },
    {
     "data": {
      "text/plain": [
       "LinearSVC()"
      ]
     },
     "execution_count": 97,
     "metadata": {},
     "output_type": "execute_result"
    }
   ],
   "source": [
    "model.fit(X_train,y_train)"
   ]
  },
  {
   "cell_type": "code",
   "execution_count": 98,
   "metadata": {},
   "outputs": [],
   "source": [
    "y_pred = model.predict(X_test)"
   ]
  },
  {
   "cell_type": "code",
   "execution_count": 99,
   "metadata": {},
   "outputs": [
    {
     "data": {
      "text/plain": [
       "array([1, 0, 0, ..., 0, 1, 0])"
      ]
     },
     "execution_count": 99,
     "metadata": {},
     "output_type": "execute_result"
    },
    {
     "data": {
      "text/plain": [
       "array([1, 0, 0, ..., 0, 1, 0])"
      ]
     },
     "execution_count": 99,
     "metadata": {},
     "output_type": "execute_result"
    }
   ],
   "source": [
    "y_pred"
   ]
  },
  {
   "cell_type": "code",
   "execution_count": 100,
   "metadata": {},
   "outputs": [
    {
     "name": "stdout",
     "output_type": "stream",
     "text": [
      "              precision    recall  f1-score   support\n",
      "\n",
      "           0       0.86      0.89      0.87      3645\n",
      "           1       0.89      0.87      0.88      3855\n",
      "\n",
      "    accuracy                           0.88      7500\n",
      "   macro avg       0.88      0.88      0.88      7500\n",
      "weighted avg       0.88      0.88      0.88      7500\n",
      "\n",
      "              precision    recall  f1-score   support\n",
      "\n",
      "           0       0.86      0.89      0.87      3645\n",
      "           1       0.89      0.87      0.88      3855\n",
      "\n",
      "    accuracy                           0.88      7500\n",
      "   macro avg       0.88      0.88      0.88      7500\n",
      "weighted avg       0.88      0.88      0.88      7500\n",
      "\n"
     ]
    }
   ],
   "source": [
    "print(classification_report(y_pred,y_test))"
   ]
  },
  {
   "cell_type": "code",
   "execution_count": 101,
   "metadata": {},
   "outputs": [],
   "source": [
    "filename = 'NLP_Model.pkl'\n"
   ]
  },
  {
   "cell_type": "code",
   "execution_count": 102,
   "metadata": {},
   "outputs": [],
   "source": [
    "pickle.dump(model,open(filename,'wb'))"
   ]
  },
  {
   "cell_type": "code",
   "execution_count": null,
   "metadata": {},
   "outputs": [],
   "source": []
  }
 ],
 "metadata": {
  "kernelspec": {
   "display_name": "Python 3",
   "language": "python",
   "name": "python3"
  },
  "language_info": {
   "codemirror_mode": {
    "name": "ipython",
    "version": 3
   },
   "file_extension": ".py",
   "mimetype": "text/x-python",
   "name": "python",
   "nbconvert_exporter": "python",
   "pygments_lexer": "ipython3",
   "version": "3.7.3"
  }
 },
 "nbformat": 4,
 "nbformat_minor": 2
}
